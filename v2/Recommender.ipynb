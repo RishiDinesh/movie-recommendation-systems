{
 "cells": [
  {
   "cell_type": "markdown",
   "metadata": {},
   "source": [
    "## Hybrid Movie Recommendation System\n",
    "\n",
    "*Rishi Dinesh - 19BAI1009* , *Pranav Balaji - 19BAI1151*\n",
    "\n",
    "The aim of this project is to build a novel hybrid recommendation algorithm that solves two main issues of the existing collaborative filtering algorithm: the case of bad performance due to data sparsity and difficulty in tracking the change of the users’ interest with time. We aim to resolve these issues by bridging the gap between the movie features and the user interests."
   ]
  },
  {
   "cell_type": "markdown",
   "metadata": {},
   "source": [
    "### Importing the Datasets"
   ]
  },
  {
   "cell_type": "code",
   "execution_count": 1,
   "metadata": {
    "ExecuteTime": {
     "end_time": "2021-06-06T11:17:20.355175Z",
     "start_time": "2021-06-06T11:17:17.127292Z"
    }
   },
   "outputs": [
    {
     "data": {
      "text/html": [
       "<div>\n",
       "<style scoped>\n",
       "    .dataframe tbody tr th:only-of-type {\n",
       "        vertical-align: middle;\n",
       "    }\n",
       "\n",
       "    .dataframe tbody tr th {\n",
       "        vertical-align: top;\n",
       "    }\n",
       "\n",
       "    .dataframe thead th {\n",
       "        text-align: right;\n",
       "    }\n",
       "</style>\n",
       "<table border=\"1\" class=\"dataframe\">\n",
       "  <thead>\n",
       "    <tr style=\"text-align: right;\">\n",
       "      <th></th>\n",
       "      <th>movieId</th>\n",
       "      <th>Title</th>\n",
       "      <th>Genre</th>\n",
       "      <th>Director</th>\n",
       "      <th>Writer</th>\n",
       "      <th>Actors</th>\n",
       "    </tr>\n",
       "  </thead>\n",
       "  <tbody>\n",
       "    <tr>\n",
       "      <th>0</th>\n",
       "      <td>1</td>\n",
       "      <td>Toy Story</td>\n",
       "      <td>Animation, Adventure, Comedy, Family, Fantasy</td>\n",
       "      <td>John Lasseter</td>\n",
       "      <td>John Lasseter (original story by), Pete Docter...</td>\n",
       "      <td>Tom Hanks, Tim Allen, Don Rickles, Jim Varney</td>\n",
       "    </tr>\n",
       "    <tr>\n",
       "      <th>1</th>\n",
       "      <td>2</td>\n",
       "      <td>Jumanji</td>\n",
       "      <td>Adventure, Comedy, Family, Fantasy</td>\n",
       "      <td>Joe Johnston</td>\n",
       "      <td>Jonathan Hensleigh (screenplay by), Greg Taylo...</td>\n",
       "      <td>Robin Williams, Jonathan Hyde, Kirsten Dunst, ...</td>\n",
       "    </tr>\n",
       "    <tr>\n",
       "      <th>2</th>\n",
       "      <td>3</td>\n",
       "      <td>Grumpier Old Men</td>\n",
       "      <td>Comedy, Romance</td>\n",
       "      <td>Howard Deutch</td>\n",
       "      <td>Mark Steven Johnson (characters), Mark Steven ...</td>\n",
       "      <td>Walter Matthau, Jack Lemmon, Sophia Loren, Ann...</td>\n",
       "    </tr>\n",
       "    <tr>\n",
       "      <th>3</th>\n",
       "      <td>4</td>\n",
       "      <td>Waiting to Exhale</td>\n",
       "      <td>Comedy, Drama, Romance</td>\n",
       "      <td>Forest Whitaker</td>\n",
       "      <td>Terry McMillan (novel), Terry McMillan (screen...</td>\n",
       "      <td>Whitney Houston, Angela Bassett, Loretta Devin...</td>\n",
       "    </tr>\n",
       "    <tr>\n",
       "      <th>4</th>\n",
       "      <td>5</td>\n",
       "      <td>Father of the Bride Part II</td>\n",
       "      <td>Comedy, Family, Romance</td>\n",
       "      <td>Charles Shyer</td>\n",
       "      <td>Albert Hackett (screenplay \"Father's Little Di...</td>\n",
       "      <td>Steve Martin, Diane Keaton, Martin Short, Kimb...</td>\n",
       "    </tr>\n",
       "  </tbody>\n",
       "</table>\n",
       "</div>"
      ],
      "text/plain": [
       "   movieId                        Title  \\\n",
       "0        1                    Toy Story   \n",
       "1        2                      Jumanji   \n",
       "2        3             Grumpier Old Men   \n",
       "3        4            Waiting to Exhale   \n",
       "4        5  Father of the Bride Part II   \n",
       "\n",
       "                                           Genre         Director  \\\n",
       "0  Animation, Adventure, Comedy, Family, Fantasy    John Lasseter   \n",
       "1             Adventure, Comedy, Family, Fantasy     Joe Johnston   \n",
       "2                                Comedy, Romance    Howard Deutch   \n",
       "3                         Comedy, Drama, Romance  Forest Whitaker   \n",
       "4                        Comedy, Family, Romance    Charles Shyer   \n",
       "\n",
       "                                              Writer  \\\n",
       "0  John Lasseter (original story by), Pete Docter...   \n",
       "1  Jonathan Hensleigh (screenplay by), Greg Taylo...   \n",
       "2  Mark Steven Johnson (characters), Mark Steven ...   \n",
       "3  Terry McMillan (novel), Terry McMillan (screen...   \n",
       "4  Albert Hackett (screenplay \"Father's Little Di...   \n",
       "\n",
       "                                              Actors  \n",
       "0      Tom Hanks, Tim Allen, Don Rickles, Jim Varney  \n",
       "1  Robin Williams, Jonathan Hyde, Kirsten Dunst, ...  \n",
       "2  Walter Matthau, Jack Lemmon, Sophia Loren, Ann...  \n",
       "3  Whitney Houston, Angela Bassett, Loretta Devin...  \n",
       "4  Steve Martin, Diane Keaton, Martin Short, Kimb...  "
      ]
     },
     "execution_count": 1,
     "metadata": {},
     "output_type": "execute_result"
    }
   ],
   "source": [
    "import pandas as pd\n",
    "import numpy as np\n",
    "import matplotlib.pyplot as plt\n",
    "\n",
    "# Importing the movies dataset\n",
    "movies = pd.read_csv('./Datasets/movie_data.csv',\n",
    "                     usecols= ['movieId', 'Title', 'Genre', 'Director', 'Writer', 'Actors'],\n",
    "                     dtype= {'movieId': 'int64','Title': 'str', 'Genre': 'str', \n",
    "                             'Director': 'str', 'Writer': 'str', 'Actors': 'str'})\n",
    "movies.head()"
   ]
  },
  {
   "cell_type": "code",
   "execution_count": 2,
   "metadata": {
    "ExecuteTime": {
     "end_time": "2021-06-06T11:17:26.697339Z",
     "start_time": "2021-06-06T11:17:26.514031Z"
    }
   },
   "outputs": [
    {
     "data": {
      "text/html": [
       "<div>\n",
       "<style scoped>\n",
       "    .dataframe tbody tr th:only-of-type {\n",
       "        vertical-align: middle;\n",
       "    }\n",
       "\n",
       "    .dataframe tbody tr th {\n",
       "        vertical-align: top;\n",
       "    }\n",
       "\n",
       "    .dataframe thead th {\n",
       "        text-align: right;\n",
       "    }\n",
       "</style>\n",
       "<table border=\"1\" class=\"dataframe\">\n",
       "  <thead>\n",
       "    <tr style=\"text-align: right;\">\n",
       "      <th></th>\n",
       "      <th>userId</th>\n",
       "      <th>movieId</th>\n",
       "      <th>rating</th>\n",
       "      <th>timestamp</th>\n",
       "    </tr>\n",
       "  </thead>\n",
       "  <tbody>\n",
       "    <tr>\n",
       "      <th>0</th>\n",
       "      <td>1</td>\n",
       "      <td>1</td>\n",
       "      <td>4.0</td>\n",
       "      <td>964982703</td>\n",
       "    </tr>\n",
       "    <tr>\n",
       "      <th>1</th>\n",
       "      <td>1</td>\n",
       "      <td>3</td>\n",
       "      <td>4.0</td>\n",
       "      <td>964981247</td>\n",
       "    </tr>\n",
       "    <tr>\n",
       "      <th>2</th>\n",
       "      <td>1</td>\n",
       "      <td>6</td>\n",
       "      <td>4.0</td>\n",
       "      <td>964982224</td>\n",
       "    </tr>\n",
       "    <tr>\n",
       "      <th>3</th>\n",
       "      <td>1</td>\n",
       "      <td>47</td>\n",
       "      <td>5.0</td>\n",
       "      <td>964983815</td>\n",
       "    </tr>\n",
       "    <tr>\n",
       "      <th>4</th>\n",
       "      <td>1</td>\n",
       "      <td>50</td>\n",
       "      <td>5.0</td>\n",
       "      <td>964982931</td>\n",
       "    </tr>\n",
       "  </tbody>\n",
       "</table>\n",
       "</div>"
      ],
      "text/plain": [
       "   userId  movieId  rating  timestamp\n",
       "0       1        1     4.0  964982703\n",
       "1       1        3     4.0  964981247\n",
       "2       1        6     4.0  964982224\n",
       "3       1       47     5.0  964983815\n",
       "4       1       50     5.0  964982931"
      ]
     },
     "execution_count": 2,
     "metadata": {},
     "output_type": "execute_result"
    }
   ],
   "source": [
    "# Importing the ratings dataset\n",
    "ratings = pd.read_csv('./Datasets/ratings.csv', usecols= ['userId', 'movieId', 'rating','timestamp'],\n",
    "                     dtype= {'userId': 'int64','movieId':'int64','rating':'float','timestamp':'int64'})\n",
    "ratings.head()"
   ]
  },
  {
   "cell_type": "markdown",
   "metadata": {},
   "source": [
    "### Data Preprocessing  "
   ]
  },
  {
   "cell_type": "code",
   "execution_count": 9,
   "metadata": {
    "ExecuteTime": {
     "end_time": "2021-06-06T10:05:36.735381Z",
     "start_time": "2021-06-06T10:05:36.547918Z"
    }
   },
   "outputs": [
    {
     "data": {
      "text/html": [
       "<div>\n",
       "<style scoped>\n",
       "    .dataframe tbody tr th:only-of-type {\n",
       "        vertical-align: middle;\n",
       "    }\n",
       "\n",
       "    .dataframe tbody tr th {\n",
       "        vertical-align: top;\n",
       "    }\n",
       "\n",
       "    .dataframe thead th {\n",
       "        text-align: right;\n",
       "    }\n",
       "</style>\n",
       "<table border=\"1\" class=\"dataframe\">\n",
       "  <thead>\n",
       "    <tr style=\"text-align: right;\">\n",
       "      <th></th>\n",
       "      <th>movieId</th>\n",
       "      <th>Title</th>\n",
       "      <th>Genre</th>\n",
       "      <th>Director</th>\n",
       "      <th>Writer</th>\n",
       "      <th>Actors</th>\n",
       "    </tr>\n",
       "  </thead>\n",
       "  <tbody>\n",
       "    <tr>\n",
       "      <th>0</th>\n",
       "      <td>1</td>\n",
       "      <td>Toy Story</td>\n",
       "      <td>[Animation, Adventure, Comedy, Family, Fantasy]</td>\n",
       "      <td>[John Lasseter]</td>\n",
       "      <td>[John Lasseter, Pete Docter, Andrew Stanton, J...</td>\n",
       "      <td>[Tom Hanks, Tim Allen, Don Rickles, Jim Varney]</td>\n",
       "    </tr>\n",
       "    <tr>\n",
       "      <th>1</th>\n",
       "      <td>2</td>\n",
       "      <td>Jumanji</td>\n",
       "      <td>[Adventure, Comedy, Family, Fantasy]</td>\n",
       "      <td>[Joe Johnston]</td>\n",
       "      <td>[Jonathan Hensleigh, Greg Taylor, Jim Strain, ...</td>\n",
       "      <td>[Robin Williams, Jonathan Hyde, Kirsten Dunst,...</td>\n",
       "    </tr>\n",
       "    <tr>\n",
       "      <th>2</th>\n",
       "      <td>3</td>\n",
       "      <td>Grumpier Old Men</td>\n",
       "      <td>[Comedy, Romance]</td>\n",
       "      <td>[Howard Deutch]</td>\n",
       "      <td>[Mark Steven Johnson, Mark Steven Johnson]</td>\n",
       "      <td>[Walter Matthau, Jack Lemmon, Sophia Loren, An...</td>\n",
       "    </tr>\n",
       "    <tr>\n",
       "      <th>3</th>\n",
       "      <td>4</td>\n",
       "      <td>Waiting to Exhale</td>\n",
       "      <td>[Comedy, Drama, Romance]</td>\n",
       "      <td>[Forest Whitaker]</td>\n",
       "      <td>[Terry McMillan, Terry McMillan, Ronald Bass]</td>\n",
       "      <td>[Whitney Houston, Angela Bassett, Loretta Devi...</td>\n",
       "    </tr>\n",
       "    <tr>\n",
       "      <th>4</th>\n",
       "      <td>5</td>\n",
       "      <td>Father of the Bride Part II</td>\n",
       "      <td>[Comedy, Family, Romance]</td>\n",
       "      <td>[Charles Shyer]</td>\n",
       "      <td>[Albert Hackett, Frances Goodrich, Nancy Meyer...</td>\n",
       "      <td>[Steve Martin, Diane Keaton, Martin Short, Kim...</td>\n",
       "    </tr>\n",
       "  </tbody>\n",
       "</table>\n",
       "</div>"
      ],
      "text/plain": [
       "   movieId                        Title  \\\n",
       "0        1                    Toy Story   \n",
       "1        2                      Jumanji   \n",
       "2        3             Grumpier Old Men   \n",
       "3        4            Waiting to Exhale   \n",
       "4        5  Father of the Bride Part II   \n",
       "\n",
       "                                             Genre           Director  \\\n",
       "0  [Animation, Adventure, Comedy, Family, Fantasy]    [John Lasseter]   \n",
       "1             [Adventure, Comedy, Family, Fantasy]     [Joe Johnston]   \n",
       "2                                [Comedy, Romance]    [Howard Deutch]   \n",
       "3                         [Comedy, Drama, Romance]  [Forest Whitaker]   \n",
       "4                        [Comedy, Family, Romance]    [Charles Shyer]   \n",
       "\n",
       "                                              Writer  \\\n",
       "0  [John Lasseter, Pete Docter, Andrew Stanton, J...   \n",
       "1  [Jonathan Hensleigh, Greg Taylor, Jim Strain, ...   \n",
       "2         [Mark Steven Johnson, Mark Steven Johnson]   \n",
       "3      [Terry McMillan, Terry McMillan, Ronald Bass]   \n",
       "4  [Albert Hackett, Frances Goodrich, Nancy Meyer...   \n",
       "\n",
       "                                              Actors  \n",
       "0    [Tom Hanks, Tim Allen, Don Rickles, Jim Varney]  \n",
       "1  [Robin Williams, Jonathan Hyde, Kirsten Dunst,...  \n",
       "2  [Walter Matthau, Jack Lemmon, Sophia Loren, An...  \n",
       "3  [Whitney Houston, Angela Bassett, Loretta Devi...  \n",
       "4  [Steve Martin, Diane Keaton, Martin Short, Kim...  "
      ]
     },
     "execution_count": 9,
     "metadata": {},
     "output_type": "execute_result"
    }
   ],
   "source": [
    "# Filling null values\n",
    "movies = movies.fillna('')\n",
    "\n",
    "# Converting attributes from a string to a list of values\n",
    "movies['Genre'] = movies['Genre'].str.split(', ')\n",
    "movies['Actors'] = movies['Actors'].str.split(', ')\n",
    "movies['Writer'] = movies['Writer'].replace(r' \\([^\\)]*\\)', '', regex= True).str.split(', ')\n",
    "movies['Director'] = movies['Director'].str.split(', ')\n",
    "\n",
    "movies.head()"
   ]
  },
  {
   "cell_type": "code",
   "execution_count": 10,
   "metadata": {
    "ExecuteTime": {
     "end_time": "2021-06-06T10:05:44.837832Z",
     "start_time": "2021-06-06T10:05:39.954703Z"
    }
   },
   "outputs": [
    {
     "data": {
      "text/html": [
       "<div>\n",
       "<style scoped>\n",
       "    .dataframe tbody tr th:only-of-type {\n",
       "        vertical-align: middle;\n",
       "    }\n",
       "\n",
       "    .dataframe tbody tr th {\n",
       "        vertical-align: top;\n",
       "    }\n",
       "\n",
       "    .dataframe thead th {\n",
       "        text-align: right;\n",
       "    }\n",
       "</style>\n",
       "<table border=\"1\" class=\"dataframe\">\n",
       "  <thead>\n",
       "    <tr style=\"text-align: right;\">\n",
       "      <th></th>\n",
       "      <th>userId</th>\n",
       "      <th>movieId</th>\n",
       "      <th>rating</th>\n",
       "      <th>timestamp</th>\n",
       "      <th>scaled_timestamp</th>\n",
       "    </tr>\n",
       "  </thead>\n",
       "  <tbody>\n",
       "    <tr>\n",
       "      <th>0</th>\n",
       "      <td>1</td>\n",
       "      <td>1</td>\n",
       "      <td>4.0</td>\n",
       "      <td>964982703</td>\n",
       "      <td>1492701719</td>\n",
       "    </tr>\n",
       "    <tr>\n",
       "      <th>1</th>\n",
       "      <td>1</td>\n",
       "      <td>3</td>\n",
       "      <td>4.0</td>\n",
       "      <td>964981247</td>\n",
       "      <td>1492701416</td>\n",
       "    </tr>\n",
       "    <tr>\n",
       "      <th>2</th>\n",
       "      <td>1</td>\n",
       "      <td>6</td>\n",
       "      <td>4.0</td>\n",
       "      <td>964982224</td>\n",
       "      <td>1492701619</td>\n",
       "    </tr>\n",
       "    <tr>\n",
       "      <th>3</th>\n",
       "      <td>1</td>\n",
       "      <td>47</td>\n",
       "      <td>5.0</td>\n",
       "      <td>964983815</td>\n",
       "      <td>1492701950</td>\n",
       "    </tr>\n",
       "    <tr>\n",
       "      <th>4</th>\n",
       "      <td>1</td>\n",
       "      <td>50</td>\n",
       "      <td>5.0</td>\n",
       "      <td>964982931</td>\n",
       "      <td>1492701766</td>\n",
       "    </tr>\n",
       "  </tbody>\n",
       "</table>\n",
       "</div>"
      ],
      "text/plain": [
       "   userId  movieId  rating  timestamp  scaled_timestamp\n",
       "0       1        1     4.0  964982703        1492701719\n",
       "1       1        3     4.0  964981247        1492701416\n",
       "2       1        6     4.0  964982224        1492701619\n",
       "3       1       47     5.0  964983815        1492701950\n",
       "4       1       50     5.0  964982931        1492701766"
      ]
     },
     "execution_count": 10,
     "metadata": {},
     "output_type": "execute_result"
    }
   ],
   "source": [
    "from sklearn.preprocessing import MinMaxScaler\n",
    "\n",
    "# Scaling the timestamp to fit between 2016 and 2021 in order to make the recommendations more time-sensitive\n",
    "scaler = MinMaxScaler(feature_range=(1464199805,1611995861))\n",
    "scaled_timestamp = scaler.fit_transform(ratings.timestamp.values.reshape(-1,1))\n",
    "ratings[\"scaled_timestamp\"] = [int(ts) for ts in scaled_timestamp]\n",
    "\n",
    "ratings.head()"
   ]
  },
  {
   "cell_type": "markdown",
   "metadata": {},
   "source": [
    "### Feature Vector of Movies"
   ]
  },
  {
   "cell_type": "code",
   "execution_count": 15,
   "metadata": {
    "ExecuteTime": {
     "end_time": "2021-06-06T10:53:38.537724Z",
     "start_time": "2021-06-06T10:53:38.490844Z"
    }
   },
   "outputs": [
    {
     "name": "stdout",
     "output_type": "stream",
     "text": [
      "['Sci-Fi', 'Musical', 'Animation', 'Action', 'Western', 'Comedy', 'Short', 'Horror', 'Family', 'Adventure', 'Film-Noir', 'Music', 'Romance', 'Sport', 'Mystery', 'News', 'Fantasy', 'Thriller', 'Biography', 'History', 'War', 'Documentary', 'Drama', 'Crime']\n"
     ]
    }
   ],
   "source": [
    "# Function that returns a set of all the unique values of an attribute\n",
    "def getUnique(column):\n",
    "    Set = set()\n",
    "    for field in column:\n",
    "            for attribute in field: Set.add(attribute)\n",
    "    return Set\n",
    "\n",
    "# Storing all then unique values of the genre attribute\n",
    "features = [\"Genre\"]\n",
    "unique = dict()\n",
    "for feature in features: unique[feature] = list(getUnique(movies[feature]))\n",
    "print(unique[\"Genre\"])"
   ]
  },
  {
   "cell_type": "code",
   "execution_count": 14,
   "metadata": {
    "ExecuteTime": {
     "end_time": "2021-06-06T10:09:49.727991Z",
     "start_time": "2021-06-06T10:09:45.394673Z"
    }
   },
   "outputs": [
    {
     "data": {
      "text/html": [
       "<div>\n",
       "<style scoped>\n",
       "    .dataframe tbody tr th:only-of-type {\n",
       "        vertical-align: middle;\n",
       "    }\n",
       "\n",
       "    .dataframe tbody tr th {\n",
       "        vertical-align: top;\n",
       "    }\n",
       "\n",
       "    .dataframe thead th {\n",
       "        text-align: right;\n",
       "    }\n",
       "</style>\n",
       "<table border=\"1\" class=\"dataframe\">\n",
       "  <thead>\n",
       "    <tr style=\"text-align: right;\">\n",
       "      <th></th>\n",
       "      <th>movieId</th>\n",
       "      <th>Title</th>\n",
       "      <th>Genre</th>\n",
       "      <th>Director</th>\n",
       "      <th>Writer</th>\n",
       "      <th>Actors</th>\n",
       "      <th>featureVector</th>\n",
       "    </tr>\n",
       "  </thead>\n",
       "  <tbody>\n",
       "    <tr>\n",
       "      <th>0</th>\n",
       "      <td>1</td>\n",
       "      <td>Toy Story</td>\n",
       "      <td>[Animation, Adventure, Comedy, Family, Fantasy]</td>\n",
       "      <td>[John Lasseter]</td>\n",
       "      <td>[John Lasseter, Pete Docter, Andrew Stanton, J...</td>\n",
       "      <td>[Tom Hanks, Tim Allen, Don Rickles, Jim Varney]</td>\n",
       "      <td>[0.0, 0.0, 1.0, 0.0, 0.0, 1.0, 0.0, 0.0, 1.0, ...</td>\n",
       "    </tr>\n",
       "    <tr>\n",
       "      <th>1</th>\n",
       "      <td>2</td>\n",
       "      <td>Jumanji</td>\n",
       "      <td>[Adventure, Comedy, Family, Fantasy]</td>\n",
       "      <td>[Joe Johnston]</td>\n",
       "      <td>[Jonathan Hensleigh, Greg Taylor, Jim Strain, ...</td>\n",
       "      <td>[Robin Williams, Jonathan Hyde, Kirsten Dunst,...</td>\n",
       "      <td>[0.0, 0.0, 0.0, 0.0, 0.0, 1.0, 0.0, 0.0, 1.0, ...</td>\n",
       "    </tr>\n",
       "    <tr>\n",
       "      <th>2</th>\n",
       "      <td>3</td>\n",
       "      <td>Grumpier Old Men</td>\n",
       "      <td>[Comedy, Romance]</td>\n",
       "      <td>[Howard Deutch]</td>\n",
       "      <td>[Mark Steven Johnson, Mark Steven Johnson]</td>\n",
       "      <td>[Walter Matthau, Jack Lemmon, Sophia Loren, An...</td>\n",
       "      <td>[0.0, 0.0, 0.0, 0.0, 0.0, 1.0, 0.0, 0.0, 0.0, ...</td>\n",
       "    </tr>\n",
       "    <tr>\n",
       "      <th>3</th>\n",
       "      <td>4</td>\n",
       "      <td>Waiting to Exhale</td>\n",
       "      <td>[Comedy, Drama, Romance]</td>\n",
       "      <td>[Forest Whitaker]</td>\n",
       "      <td>[Terry McMillan, Terry McMillan, Ronald Bass]</td>\n",
       "      <td>[Whitney Houston, Angela Bassett, Loretta Devi...</td>\n",
       "      <td>[0.0, 0.0, 0.0, 0.0, 0.0, 1.0, 0.0, 0.0, 0.0, ...</td>\n",
       "    </tr>\n",
       "    <tr>\n",
       "      <th>4</th>\n",
       "      <td>5</td>\n",
       "      <td>Father of the Bride Part II</td>\n",
       "      <td>[Comedy, Family, Romance]</td>\n",
       "      <td>[Charles Shyer]</td>\n",
       "      <td>[Albert Hackett, Frances Goodrich, Nancy Meyer...</td>\n",
       "      <td>[Steve Martin, Diane Keaton, Martin Short, Kim...</td>\n",
       "      <td>[0.0, 0.0, 0.0, 0.0, 0.0, 1.0, 0.0, 0.0, 1.0, ...</td>\n",
       "    </tr>\n",
       "  </tbody>\n",
       "</table>\n",
       "</div>"
      ],
      "text/plain": [
       "   movieId                        Title  \\\n",
       "0        1                    Toy Story   \n",
       "1        2                      Jumanji   \n",
       "2        3             Grumpier Old Men   \n",
       "3        4            Waiting to Exhale   \n",
       "4        5  Father of the Bride Part II   \n",
       "\n",
       "                                             Genre           Director  \\\n",
       "0  [Animation, Adventure, Comedy, Family, Fantasy]    [John Lasseter]   \n",
       "1             [Adventure, Comedy, Family, Fantasy]     [Joe Johnston]   \n",
       "2                                [Comedy, Romance]    [Howard Deutch]   \n",
       "3                         [Comedy, Drama, Romance]  [Forest Whitaker]   \n",
       "4                        [Comedy, Family, Romance]    [Charles Shyer]   \n",
       "\n",
       "                                              Writer  \\\n",
       "0  [John Lasseter, Pete Docter, Andrew Stanton, J...   \n",
       "1  [Jonathan Hensleigh, Greg Taylor, Jim Strain, ...   \n",
       "2         [Mark Steven Johnson, Mark Steven Johnson]   \n",
       "3      [Terry McMillan, Terry McMillan, Ronald Bass]   \n",
       "4  [Albert Hackett, Frances Goodrich, Nancy Meyer...   \n",
       "\n",
       "                                              Actors  \\\n",
       "0    [Tom Hanks, Tim Allen, Don Rickles, Jim Varney]   \n",
       "1  [Robin Williams, Jonathan Hyde, Kirsten Dunst,...   \n",
       "2  [Walter Matthau, Jack Lemmon, Sophia Loren, An...   \n",
       "3  [Whitney Houston, Angela Bassett, Loretta Devi...   \n",
       "4  [Steve Martin, Diane Keaton, Martin Short, Kim...   \n",
       "\n",
       "                                       featureVector  \n",
       "0  [0.0, 0.0, 1.0, 0.0, 0.0, 1.0, 0.0, 0.0, 1.0, ...  \n",
       "1  [0.0, 0.0, 0.0, 0.0, 0.0, 1.0, 0.0, 0.0, 1.0, ...  \n",
       "2  [0.0, 0.0, 0.0, 0.0, 0.0, 1.0, 0.0, 0.0, 0.0, ...  \n",
       "3  [0.0, 0.0, 0.0, 0.0, 0.0, 1.0, 0.0, 0.0, 0.0, ...  \n",
       "4  [0.0, 0.0, 0.0, 0.0, 0.0, 1.0, 0.0, 0.0, 1.0, ...  "
      ]
     },
     "execution_count": 14,
     "metadata": {},
     "output_type": "execute_result"
    }
   ],
   "source": [
    "# Function that builds the feature vectors of the movies\n",
    "def generateFeatureVectors():\n",
    "    length = len(unique[\"Genre\"])\n",
    "    featureVectors = list()\n",
    "    for row in movies.iterrows():\n",
    "        movie = row[1]\n",
    "        vector = np.zeros(length)\n",
    "        for feature in features:\n",
    "            for i in range(length):\n",
    "                if unique[feature][i] in movie[feature] : vector[i] = 1\n",
    "        featureVectors.append(vector)\n",
    "    movies[\"featureVector\"] = featureVectors\n",
    "\n",
    "\n",
    "generateFeatureVectors()\n",
    "\n",
    "movies.head()\n"
   ]
  },
  {
   "cell_type": "markdown",
   "metadata": {},
   "source": [
    "### Interest Vector of Users"
   ]
  },
  {
   "cell_type": "code",
   "execution_count": 7,
   "metadata": {
    "ExecuteTime": {
     "end_time": "2021-05-24T18:17:59.838606Z",
     "start_time": "2021-05-24T18:17:15.666931Z"
    }
   },
   "outputs": [
    {
     "data": {
      "text/plain": [
       "array([5.04308536e-02, 1.86922288e-01, 5.38528226e-01, 3.35816714e-01,\n",
       "       1.71235692e-01, 4.68038349e-01, 1.64068946e-03, 2.65796378e-02,\n",
       "       3.33525762e-01, 1.32015119e-02, 6.57897110e-03, 3.33525762e-01,\n",
       "       1.32015119e-02, 1.59317739e+00, 1.88085946e+00, 2.65796378e-02,\n",
       "       3.32241650e+00, 1.40581951e-01, 1.65293020e-02, 3.16429398e-02,\n",
       "       1.65293020e-02, 1.07112471e+00, 1.86922288e-01, 9.81009556e-02])"
      ]
     },
     "execution_count": 7,
     "metadata": {},
     "output_type": "execute_result"
    }
   ],
   "source": [
    "import math\n",
    "import time\n",
    "\n",
    "# Function that returns a time based weight parameter\n",
    "def weightedInterest(beta, timestamp):\n",
    "    now = int(time.time())\n",
    "    WD = beta + (1-beta) * math.exp(timestamp-now)\n",
    "    return WD\n",
    "\n",
    "# Function that returns the IDF value of all the genres\n",
    "# Assumption : User is said to have \"liked\" a movie if rating is greater than 2.5\n",
    "def inverseFeatureFrequency(feature):\n",
    "    totalUsers = len(ratings.userId.unique())   \n",
    "    idf = np.zeros(len(unique[feature]))\n",
    "    i=0\n",
    "    for attribute in unique[feature]:\n",
    "        Filter = list()\n",
    "        for index,row in movies.iterrows():\n",
    "            if attribute in row[feature] : Filter.append(row[\"movieId\"])\n",
    "        df = ratings[ratings.movieId.isin(Filter)]\n",
    "        df = df[df[\"rating\"]>2.5]\n",
    "        usersLiked = len(df.userId.unique())\n",
    "        idf[i] = math.log(totalUsers/usersLiked)\n",
    "        i += 1\n",
    "    return idf\n",
    "\n",
    "genreIDF = inverseFeatureFrequency(\"Genre\")\n",
    "genreIDF"
   ]
  },
  {
   "cell_type": "code",
   "execution_count": 8,
   "metadata": {
    "ExecuteTime": {
     "end_time": "2021-05-24T18:18:01.129030Z",
     "start_time": "2021-05-24T18:17:59.838606Z"
    }
   },
   "outputs": [],
   "source": [
    "# Function that calculates the average rating of every user\n",
    "def calculateAvgRating():\n",
    "    uniqueUsers = ratings.userId.unique()\n",
    "    avgRating = dict()\n",
    "    for Id in uniqueUsers:\n",
    "        df = ratings[ratings[\"userId\"]==Id]\n",
    "        avg = sum(df[:][\"rating\"])/df.shape[0]\n",
    "        avgRating[Id] = avg\n",
    "    return avgRating\n",
    "\n",
    "rbar = calculateAvgRating()"
   ]
  },
  {
   "cell_type": "code",
   "execution_count": 9,
   "metadata": {
    "ExecuteTime": {
     "end_time": "2021-05-24T18:18:01.168881Z",
     "start_time": "2021-05-24T18:18:01.133243Z"
    }
   },
   "outputs": [
    {
     "data": {
      "text/html": [
       "<div>\n",
       "<style scoped>\n",
       "    .dataframe tbody tr th:only-of-type {\n",
       "        vertical-align: middle;\n",
       "    }\n",
       "\n",
       "    .dataframe tbody tr th {\n",
       "        vertical-align: top;\n",
       "    }\n",
       "\n",
       "    .dataframe thead th {\n",
       "        text-align: right;\n",
       "    }\n",
       "</style>\n",
       "<table border=\"1\" class=\"dataframe\">\n",
       "  <thead>\n",
       "    <tr style=\"text-align: right;\">\n",
       "      <th></th>\n",
       "      <th>userId</th>\n",
       "      <th>avgRating</th>\n",
       "    </tr>\n",
       "  </thead>\n",
       "  <tbody>\n",
       "    <tr>\n",
       "      <th>0</th>\n",
       "      <td>1</td>\n",
       "      <td>4.366379</td>\n",
       "    </tr>\n",
       "    <tr>\n",
       "      <th>1</th>\n",
       "      <td>2</td>\n",
       "      <td>3.948276</td>\n",
       "    </tr>\n",
       "    <tr>\n",
       "      <th>2</th>\n",
       "      <td>3</td>\n",
       "      <td>2.435897</td>\n",
       "    </tr>\n",
       "    <tr>\n",
       "      <th>3</th>\n",
       "      <td>4</td>\n",
       "      <td>3.555556</td>\n",
       "    </tr>\n",
       "    <tr>\n",
       "      <th>4</th>\n",
       "      <td>5</td>\n",
       "      <td>3.636364</td>\n",
       "    </tr>\n",
       "    <tr>\n",
       "      <th>...</th>\n",
       "      <td>...</td>\n",
       "      <td>...</td>\n",
       "    </tr>\n",
       "    <tr>\n",
       "      <th>605</th>\n",
       "      <td>606</td>\n",
       "      <td>3.657399</td>\n",
       "    </tr>\n",
       "    <tr>\n",
       "      <th>606</th>\n",
       "      <td>607</td>\n",
       "      <td>3.786096</td>\n",
       "    </tr>\n",
       "    <tr>\n",
       "      <th>607</th>\n",
       "      <td>608</td>\n",
       "      <td>3.134176</td>\n",
       "    </tr>\n",
       "    <tr>\n",
       "      <th>608</th>\n",
       "      <td>609</td>\n",
       "      <td>3.270270</td>\n",
       "    </tr>\n",
       "    <tr>\n",
       "      <th>609</th>\n",
       "      <td>610</td>\n",
       "      <td>3.688556</td>\n",
       "    </tr>\n",
       "  </tbody>\n",
       "</table>\n",
       "<p>610 rows × 2 columns</p>\n",
       "</div>"
      ],
      "text/plain": [
       "     userId  avgRating\n",
       "0         1   4.366379\n",
       "1         2   3.948276\n",
       "2         3   2.435897\n",
       "3         4   3.555556\n",
       "4         5   3.636364\n",
       "..      ...        ...\n",
       "605     606   3.657399\n",
       "606     607   3.786096\n",
       "607     608   3.134176\n",
       "608     609   3.270270\n",
       "609     610   3.688556\n",
       "\n",
       "[610 rows x 2 columns]"
      ]
     },
     "execution_count": 9,
     "metadata": {},
     "output_type": "execute_result"
    }
   ],
   "source": [
    "# users dataframe to store rating and interest vector information\n",
    "users = pd.DataFrame(list(rbar.items()),columns = ['userId','avgRating']) \n",
    "users"
   ]
  },
  {
   "cell_type": "code",
   "execution_count": 10,
   "metadata": {
    "ExecuteTime": {
     "end_time": "2021-05-24T18:52:42.104407Z",
     "start_time": "2021-05-24T18:44:35.329701Z"
    }
   },
   "outputs": [
    {
     "data": {
      "text/html": [
       "<div>\n",
       "<style scoped>\n",
       "    .dataframe tbody tr th:only-of-type {\n",
       "        vertical-align: middle;\n",
       "    }\n",
       "\n",
       "    .dataframe tbody tr th {\n",
       "        vertical-align: top;\n",
       "    }\n",
       "\n",
       "    .dataframe thead th {\n",
       "        text-align: right;\n",
       "    }\n",
       "</style>\n",
       "<table border=\"1\" class=\"dataframe\">\n",
       "  <thead>\n",
       "    <tr style=\"text-align: right;\">\n",
       "      <th></th>\n",
       "      <th>userId</th>\n",
       "      <th>avgRating</th>\n",
       "      <th>interestVector</th>\n",
       "    </tr>\n",
       "  </thead>\n",
       "  <tbody>\n",
       "    <tr>\n",
       "      <th>0</th>\n",
       "      <td>1</td>\n",
       "      <td>4.366379</td>\n",
       "      <td>[-0.1047, 0.5125, -0.0149, 0.0253, 0.1055, 0.0...</td>\n",
       "    </tr>\n",
       "    <tr>\n",
       "      <th>1</th>\n",
       "      <td>2</td>\n",
       "      <td>3.948276</td>\n",
       "      <td>[-0.0757, 0.0, 0.4809, 0.0136, 0.0765, -0.171,...</td>\n",
       "    </tr>\n",
       "    <tr>\n",
       "      <th>2</th>\n",
       "      <td>3</td>\n",
       "      <td>2.435897</td>\n",
       "      <td>[0.0037, -0.5861, 0.5832, -0.2633, -0.5369, 0....</td>\n",
       "    </tr>\n",
       "    <tr>\n",
       "      <th>3</th>\n",
       "      <td>4</td>\n",
       "      <td>3.555556</td>\n",
       "      <td>[-0.0082, 0.0911, 0.0875, 0.3199, 0.062, 0.169...</td>\n",
       "    </tr>\n",
       "    <tr>\n",
       "      <th>4</th>\n",
       "      <td>5</td>\n",
       "      <td>3.636364</td>\n",
       "      <td>[0.0286, 0.6135, 0.0, 0.0, -0.308, -0.4727, 0....</td>\n",
       "    </tr>\n",
       "  </tbody>\n",
       "</table>\n",
       "</div>"
      ],
      "text/plain": [
       "   userId  avgRating                                     interestVector\n",
       "0       1   4.366379  [-0.1047, 0.5125, -0.0149, 0.0253, 0.1055, 0.0...\n",
       "1       2   3.948276  [-0.0757, 0.0, 0.4809, 0.0136, 0.0765, -0.171,...\n",
       "2       3   2.435897  [0.0037, -0.5861, 0.5832, -0.2633, -0.5369, 0....\n",
       "3       4   3.555556  [-0.0082, 0.0911, 0.0875, 0.3199, 0.062, 0.169...\n",
       "4       5   3.636364  [0.0286, 0.6135, 0.0, 0.0, -0.308, -0.4727, 0...."
      ]
     },
     "execution_count": 10,
     "metadata": {},
     "output_type": "execute_result"
    }
   ],
   "source": [
    "# Function that builds the interest vector of all the users and stores it in the users dataframe\n",
    "def generateInterestVectors(beta):\n",
    "    interestVectors = list() \n",
    "    uniqueUsers = ratings.userId.unique()\n",
    "    for uid in uniqueUsers:\n",
    "        vector = np.zeros(len(unique[\"Genre\"]))\n",
    "        moviesRated = ratings[ratings[\"userId\"]==uid][\"movieId\"]\n",
    "        movieVectors = movies[movies.movieId.isin(moviesRated)][\"featureVector\"]\n",
    "        avgUserRating = round(float(users[users.userId==uid][\"avgRating\"]),2)\n",
    "        for (fVec,mid) in zip(movieVectors,moviesRated):\n",
    "            row = ratings[(ratings.userId==uid) & (ratings.movieId==mid)]\n",
    "            userMovieRating = round(float(row[\"rating\"]),4)\n",
    "            WD = weightedInterest(beta,row[\"scaled_timestamp\"])\n",
    "            weight = round((userMovieRating-avgUserRating)*WD,4)\n",
    "            fVec = np.multiply(fVec,weight)\n",
    "            vector = np.add(vector,fVec)\n",
    "        vector = np.multiply(vector,genreIDF)\n",
    "        maxVal = np.max(abs(vector))\n",
    "        if maxVal==0 : maxVal = 1\n",
    "        vector = np.divide(vector,maxVal)\n",
    "        interestVectors.append(np.around(vector,4))\n",
    "    users[\"interestVector\"] = interestVectors\n",
    "\n",
    "\n",
    "generateInterestVectors(0.25)\n",
    "users.head()\n",
    "            "
   ]
  },
  {
   "cell_type": "markdown",
   "metadata": {},
   "source": [
    "### Bridging Movie Features and User Interests"
   ]
  },
  {
   "cell_type": "code",
   "execution_count": 11,
   "metadata": {
    "ExecuteTime": {
     "end_time": "2021-05-24T18:18:01.233239Z",
     "start_time": "2021-05-24T18:18:01.218162Z"
    }
   },
   "outputs": [],
   "source": [
    "# Function that updates the feature vectors using the interest vectors\n",
    "def updatefeatureVectors():\n",
    "    new_fVec = list()\n",
    "    for index,row in movies.iterrows():\n",
    "        vector = np.zeros(len(unique[\"Genre\"]))\n",
    "        mid = row[\"movieId\"]\n",
    "        userSet = ratings[ratings[\"movieId\"]==mid][\"userId\"]\n",
    "        iVecSet = users[users.userId.isin(userSet)][\"interestVector\"]\n",
    "        for (iVec,uid) in zip(iVecSet,userSet):\n",
    "            avgUserRating = round(float(users[users.userId==uid][\"avgRating\"]),2)\n",
    "            userMovieRating = round(float(ratings[(ratings.userId==uid) & (ratings.movieId==mid)][\"rating\"]),4)\n",
    "            weight = round((userMovieRating-avgUserRating),4)\n",
    "            iVec = np.multiply(iVec,weight)\n",
    "            vector = np.add(vector,iVec)\n",
    "        maxVal = np.max(abs(vector))\n",
    "        if maxVal==0 : maxVal = 1\n",
    "        vector = np.divide(vector,maxVal)\n",
    "        new_fVec.append(vector)\n",
    "    movies[\"featureVector\"] = new_fVec\n",
    "     "
   ]
  },
  {
   "cell_type": "markdown",
   "metadata": {},
   "source": [
    "### Recommendations Based on Interest Vector and Rating Matrix"
   ]
  },
  {
   "cell_type": "code",
   "execution_count": 13,
   "metadata": {
    "ExecuteTime": {
     "end_time": "2021-05-24T18:41:13.391178Z",
     "start_time": "2021-05-24T18:41:13.375722Z"
    }
   },
   "outputs": [],
   "source": [
    "# Function that calculates the omega parameter value between two users\n",
    "# Assumption : default X=0\n",
    "def calculateOmega(u1,u2,mid):\n",
    "    rVar1 = users[users.userId==u1][\"avgRatingVariance\"].to_list()[0]\n",
    "    rVar2 = users[users.userId==u2][\"avgRatingVariance\"].to_list()[0]\n",
    "    userSet = ratings[ratings[\"movieId\"]==mid][\"userId\"]\n",
    "    rVarSet = users[users.userId.isin(userSet)][\"avgRatingVariance\"]\n",
    "    if(len(rVarSet)<=1) : X = 0\n",
    "    else : X = (max(rVarSet) - max(rVar1,rVar2))/(max(rVarSet)-min(rVarSet))\n",
    "    return (2*X -(X**2))\n"
   ]
  },
  {
   "cell_type": "code",
   "execution_count": 14,
   "metadata": {
    "ExecuteTime": {
     "end_time": "2021-05-24T18:41:13.518341Z",
     "start_time": "2021-05-24T18:41:13.395582Z"
    }
   },
   "outputs": [],
   "source": [
    "from sklearn.metrics.pairwise import cosine_similarity\n",
    "\n",
    "# Function that calculates the similarity betweeen two users\n",
    "# Assumption : If both users have not rated any movies in common, return sim_f\n",
    "def calculateSimilarity(u1,u2,mid):\n",
    "    iVec1 = users[users.userId==u1][\"interestVector\"].to_list()[0].reshape(1,-1)\n",
    "    iVec2 = users[users.userId==u2][\"interestVector\"].to_list()[0].reshape(1,-1)\n",
    "    sim_f = cosine_similarity(iVec1,iVec2)[0][0]\n",
    "    user1 = ratings[ratings.userId==u1]\n",
    "    user2 = ratings[ratings.userId==u2]\n",
    "    common = list(set(user1[\"movieId\"]).intersection(set(user2[\"movieId\"])))\n",
    "    rVec1 = list(user1[user1.movieId.isin(common)][\"rating\"])\n",
    "    rVec2 = list(user2[user2.movieId.isin(common)][\"rating\"])\n",
    "    delta = 1e-10\n",
    "    if(len(common)==0) : return sim_f\n",
    "    rVec1[0] = rVec1[0] + delta\n",
    "    rVec2[0] = rVec2[0] + delta\n",
    "    sim_m = np.corrcoef(rVec1,rVec2)[0][1]\n",
    "    omega = calculateOmega(u1,u2,mid)\n",
    "    sim = omega*sim_f + (1-omega)*(sim_m)\n",
    "    return sim "
   ]
  },
  {
   "cell_type": "code",
   "execution_count": 15,
   "metadata": {
    "ExecuteTime": {
     "end_time": "2021-05-24T18:41:13.541615Z",
     "start_time": "2021-05-24T18:41:13.518341Z"
    }
   },
   "outputs": [],
   "source": [
    "# Function that returns the top K similar users to a given user\n",
    "# Assumption : Get similarity with those users that have rated the movie\n",
    "np.seterr(divide='ignore')\n",
    "def getNeighbors(uid,mid,n):\n",
    "    sims = dict()\n",
    "    for u in users[\"userId\"]:\n",
    "        if len(ratings[(ratings.userId==u) & (ratings.movieId==mid)]):\n",
    "            sims[u] = calculateSimilarity(uid,u,mid)\n",
    "    sims = sorted(sims.items(), key=lambda x: x[1], reverse=True)\n",
    "    return(sims[1:n+1])"
   ]
  },
  {
   "cell_type": "code",
   "execution_count": 107,
   "metadata": {
    "ExecuteTime": {
     "end_time": "2021-05-24T18:41:13.557189Z",
     "start_time": "2021-05-24T18:41:13.542617Z"
    }
   },
   "outputs": [],
   "source": [
    "# Function that predicts the rating that a user might give to a movie\n",
    "# Assumption : If denominator is 0, default to N*0.5\n",
    "def predictRating(uid,mid,n):\n",
    "    KNN = getNeighbors(uid,mid,n)\n",
    "    num_sum,den_sum= 0,0\n",
    "    for N in KNN:\n",
    "        Nrating = ratings[(ratings.userId==N[0]) & (ratings.movieId==mid)][\"rating\"]\n",
    "        Navg = float(users[users.userId==N[0]][\"avgRating\"])\n",
    "        weight = float(N[1]) * float(Nrating-Navg)\n",
    "        num_sum += weight\n",
    "        den_sum += N[1]\n",
    "    if(den_sum==0): den_sum= n*0.5\n",
    "    predicted = float(users[users.userId == uid][\"avgRating\"] + num_sum/den_sum)\n",
    "    if predicted > 5.0 : predicted = 5.0\n",
    "    if predicted < 0.0 : predicted = 0.0\n",
    "    return predicted"
   ]
  },
  {
   "cell_type": "markdown",
   "metadata": {},
   "source": [
    "### Generating Recommendations for Test User"
   ]
  },
  {
   "cell_type": "code",
   "execution_count": 51,
   "metadata": {},
   "outputs": [],
   "source": [
    "# Testing the recommender with userID 1. \n",
    "# A list of predicted ratings for all the movies is generated and stored in DB\n",
    "test_user, neighbors, DB = 1, 10, []\n",
    "for index,row in movies.iterrows():\n",
    "    predRating = predictRating(test_user,row[\"movieId\"],neighbors)\n",
    "    DB.append((row[\"movieId\"],predRating))"
   ]
  },
  {
   "cell_type": "code",
   "execution_count": 99,
   "metadata": {},
   "outputs": [
    {
     "name": "stdout",
     "output_type": "stream",
     "text": [
      "Enter a movie you recently watched : Jumanji\n",
      "You might also like :\n",
      "With Honors\n",
      "Radio Days\n",
      "Jay and Silent Bob Strike Back\n",
      "Basic Instinct 2\n",
      "U.S. Marshals\n"
     ]
    }
   ],
   "source": [
    "# Given a movie, the movies with a similar predicted rating are returned as recommendations\n",
    "movieName = input(\"Enter a movie you recently watched : \")\n",
    "dictDB = dict(DB)\n",
    "expRating = dictDB[int(list(movies[movies[\"Title\"]==movieName][\"movieId\"])[0])]\n",
    "recommendations = [item for item in DB if abs(item[1]-expRating)<=0.1]\n",
    "recommendations.sort(key = lambda x: x[1])\n",
    "print(\"You might also like :\")\n",
    "for rec in recommendations[:5] : \n",
    "    print(list(movies[movies[\"movieId\"]==rec[0]][\"Title\"])[0],end=\"\\n\")"
   ]
  },
  {
   "cell_type": "markdown",
   "metadata": {},
   "source": [
    "### Experimental Results and Analysis"
   ]
  },
  {
   "cell_type": "code",
   "execution_count": 17,
   "metadata": {
    "ExecuteTime": {
     "end_time": "2021-05-24T19:16:15.481469Z",
     "start_time": "2021-05-24T19:06:40.400825Z"
    }
   },
   "outputs": [
    {
     "data": {
      "text/plain": [
       "[0.8090975790205733,\n",
       " 0.6989267976896766,\n",
       " 0.6961641649145769,\n",
       " 0.7053809073871208,\n",
       " 0.7296981282923064,\n",
       " 0.6827196417938285,\n",
       " 0.7155749882557759,\n",
       " 0.7047494230430622,\n",
       " 0.735468818481935,\n",
       " 1.4023766883143427,\n",
       " 0.6956398806047887,\n",
       " 0.6921012925362082,\n",
       " 0.7042862869901266,\n",
       " 0.6991101645934378,\n",
       " 1.217163493525778,\n",
       " 0.7149515751717186]"
      ]
     },
     "execution_count": 17,
     "metadata": {},
     "output_type": "execute_result"
    }
   ],
   "source": [
    "import warnings\n",
    "warnings.filterwarnings('ignore')\n",
    "\n",
    "# Analysing the impact of the number of neighbours on the accuracy (MAE)\n",
    "MAE_neighbors = []\n",
    "for N in range(5,21):\n",
    "    test = ratings.sample(frac=.005)\n",
    "    pred,actual = list(),list()\n",
    "    for index,row in test.iterrows():\n",
    "        pred.append(predictRating(row[\"userId\"],row[\"movieId\"],N))\n",
    "        actual.append(row[\"rating\"])\n",
    "    df = pd.DataFrame(list(zip(actual,pred)),columns =['Actual', 'Predicted'])\n",
    "    df = df.fillna(0)\n",
    "    MAE_neighbors.append(df.eval('Actual-Predicted').abs().mean())\n",
    "MAE_neighbors"
   ]
  },
  {
   "cell_type": "code",
   "execution_count": 47,
   "metadata": {},
   "outputs": [
    {
     "data": {
      "image/png": "[encoded data removed]",
      "text/plain": [
       "<Figure size 432x288 with 1 Axes>"
      ]
     },
     "metadata": {
      "needs_background": "light"
     },
     "output_type": "display_data"
    }
   ],
   "source": [
    "plt.plot(list(range(5,21)),MAE_neighbors,'-o')\n",
    "plt.plot(MAE_neighbors.index(min(MAE_neighbors)) + 5,min(MAE_neighbors),'ro')\n",
    "plt.xlabel(\"Number of neighbors\")\n",
    "plt.ylabel(\"MAE\")\n",
    "plt.show()"
   ]
  },
  {
   "cell_type": "code",
   "execution_count": 18,
   "metadata": {
    "ExecuteTime": {
     "end_time": "2021-05-24T20:03:27.256279Z",
     "start_time": "2021-05-24T19:22:40.434905Z"
    }
   },
   "outputs": [
    {
     "data": {
      "text/plain": [
       "[0.6662950174620058,\n",
       " 0.7279051285027066,\n",
       " 0.8143817736432274,\n",
       " 0.7630739192016945,\n",
       " 0.7645856918024097]"
      ]
     },
     "execution_count": 18,
     "metadata": {},
     "output_type": "execute_result"
    }
   ],
   "source": [
    "# Analysing the impact of the beta parameter (time based weight) on the accuracy (MAE)\n",
    "MAE_beta = []\n",
    "N = MAE_neighbors.index(min(MAE_neighbors)) + 5\n",
    "for beta in [0,0.25,0.5,0.75,1.0]:\n",
    "    pred,actual = list(),list()\n",
    "    test = ratings.sample(frac=.005)\n",
    "    generateInterestVectors(beta)\n",
    "    for index,row in test.iterrows():\n",
    "        pred.append(predictRating(row[\"userId\"],row[\"movieId\"],N))\n",
    "        actual.append(row[\"rating\"])\n",
    "    df = pd.DataFrame(list(zip(actual,pred)),columns =['Actual', 'Predicted'])\n",
    "    df = df.fillna(0)\n",
    "    MAE_beta.append(df.eval('Actual-Predicted').abs().mean())\n",
    "MAE_beta"
   ]
  },
  {
   "cell_type": "code",
   "execution_count": 48,
   "metadata": {},
   "outputs": [
    {
     "data": {
      "image/png": "[encoded data removed]",
      "text/plain": [
       "<Figure size 432x288 with 1 Axes>"
      ]
     },
     "metadata": {
      "needs_background": "light"
     },
     "output_type": "display_data"
    }
   ],
   "source": [
    "plt.plot([0.25,0.5,0.75,1.0],MAE_beta[1:],'-o')\n",
    "plt.plot(MAE_beta.index(min(MAE_beta[1:]))*0.25,min(MAE_beta[1:]),'ro')\n",
    "plt.xlabel(\"beta\")\n",
    "plt.ylabel(\"MAE\")\n",
    "plt.show()"
   ]
  },
  {
   "cell_type": "code",
   "execution_count": 22,
   "metadata": {
    "ExecuteTime": {
     "end_time": "2021-05-24T20:56:13.821349Z",
     "start_time": "2021-05-24T20:07:53.434701Z"
    }
   },
   "outputs": [
    {
     "data": {
      "text/plain": [
       "[0.7133842074208465,\n",
       " 0.6964871380828517,\n",
       " 0.6951055803890168,\n",
       " 0.7064322764848983,\n",
       " 0.7101891412080541,\n",
       " 0.700463265956922,\n",
       " 0.6995749754279629,\n",
       " 0.6857391266406233,\n",
       " 0.6806604264549363,\n",
       " 0.686587629310321]"
      ]
     },
     "execution_count": 22,
     "metadata": {},
     "output_type": "execute_result"
    }
   ],
   "source": [
    "# Analysing the improvement of accuracy (MAE) with the number of iterations.\n",
    "# The interest vectors and feature vectors can be mutually updated in an iterative manner.\n",
    "MAE_iterations = []\n",
    "N =  MAE_neighbors.index(min(MAE_neighbors)) + 5\n",
    "beta =  MAE_beta.index(min(MAE_beta[1:4]))*0.25\n",
    "for i in range(10):\n",
    "    updatefeatureVectors()\n",
    "    generateInterestVectors(beta)\n",
    "    test = ratings.sample(frac=.001)\n",
    "    for index,row in test.iterrows():\n",
    "        pred.append(predictRating(row[\"userId\"],row[\"movieId\"],N))\n",
    "        actual.append(row[\"rating\"])\n",
    "    df = pd.DataFrame(list(zip(actual,pred)),columns =['Actual', 'Predicted'])\n",
    "    df = df.fillna(0)\n",
    "    MAE_iterations.append(df.eval('Actual-Predicted').abs().mean())\n",
    "MAE_iterations"
   ]
  },
  {
   "cell_type": "code",
   "execution_count": 49,
   "metadata": {},
   "outputs": [
    {
     "data": {
      "image/png": "[encoded data removed]",
      "text/plain": [
       "<Figure size 432x288 with 1 Axes>"
      ]
     },
     "metadata": {
      "needs_background": "light"
     },
     "output_type": "display_data"
    }
   ],
   "source": [
    "plt.plot(list(range(10)),MAE_iterations,'-o')\n",
    "plt.xlabel(\"Number of iterations\")\n",
    "plt.ylabel(\"MAE\")\n",
    "plt.show()"
   ]
  }
 ],
 "metadata": {
  "kernelspec": {
   "display_name": "Python 3",
   "language": "python",
   "name": "python3"
  },
  "language_info": {
   "codemirror_mode": {
    "name": "ipython",
    "version": 3
   },
   "file_extension": ".py",
   "mimetype": "text/x-python",
   "name": "python",
   "nbconvert_exporter": "python",
   "pygments_lexer": "ipython3",
   "version": "3.8.5"
  }
 },
 "nbformat": 4,
 "nbformat_minor": 4
}
